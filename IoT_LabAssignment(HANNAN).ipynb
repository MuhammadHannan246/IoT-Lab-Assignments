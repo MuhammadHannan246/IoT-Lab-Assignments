{
  "nbformat": 4,
  "nbformat_minor": 0,
  "metadata": {
    "colab": {
      "name": "IoT_LabAssignment(HANNAN).ipynb",
      "provenance": [],
      "collapsed_sections": []
    },
    "kernelspec": {
      "name": "python3",
      "display_name": "Python 3"
    },
    "language_info": {
      "name": "python"
    }
  },
  "cells": [
    {
      "cell_type": "code",
      "execution_count": null,
      "metadata": {
        "colab": {
          "base_uri": "https://localhost:8080/"
        },
        "id": "cwkE1Pla9fPG",
        "outputId": "c163d11e-53f1-491c-bf25-6e451281a84b"
      },
      "outputs": [
        {
          "output_type": "stream",
          "name": "stdout",
          "text": [
            "Enter any integer number: 246\n",
            "Number After Reverse Will Be:  642\n"
          ]
        }
      ],
      "source": [
        "# Reverse an Integer Program\n",
        "num = int(input(\"Enter any integer number: \"))\n",
        "dh = 0\n",
        "while num > 0:\n",
        "  Remainder = num %10\n",
        "  dh = (dh *10) + Remainder\n",
        "  num = num //10\n",
        "\n",
        "print(\"Number After Reverse Will Be: \",dh)"
      ]
    },
    {
      "cell_type": "code",
      "source": [
        "# Checking Number is Armstrong or Not\n",
        "number = int(input(\"Enter any number: \"))\n",
        "d = number\n",
        "addition = 0\n",
        "while d!=0:\n",
        "    dh = d%10\n",
        "    addition += dh**3\n",
        "    d = d//10\n",
        "if addition==number:\n",
        "    print(number,' is an Armstrong Number')\n",
        "else:\n",
        "    print(number,' is not an Armstrong Number')"
      ],
      "metadata": {
        "colab": {
          "base_uri": "https://localhost:8080/"
        },
        "id": "xIMJIjyC-joX",
        "outputId": "4aa4e710-9180-4e14-92a5-327681e45b41"
      },
      "execution_count": null,
      "outputs": [
        {
          "output_type": "stream",
          "name": "stdout",
          "text": [
            "Enter any number: 212\n",
            "212  is not an Armstrong Number\n"
          ]
        }
      ]
    },
    {
      "cell_type": "code",
      "source": [
        "# Checking whether number is prime or not\n",
        "num = int(input(\"Enter any number to check whether it is prime or not: \"))\n",
        "\n",
        "dh = False\n",
        "\n",
        "if num > 1:\n",
        "    for d in range(2, num):\n",
        "        if (num % d) == 0:\n",
        "            dh = True\n",
        "            break\n",
        "\n",
        "if dh:\n",
        "    print(num, \"is not a prime number\")\n",
        "else:\n",
        "    print(num, \"is a prime number\")"
      ],
      "metadata": {
        "colab": {
          "base_uri": "https://localhost:8080/"
        },
        "id": "i6XuNwh9AS5o",
        "outputId": "b54ac475-5a6c-49ce-aa60-8d231caec026"
      },
      "execution_count": null,
      "outputs": [
        {
          "output_type": "stream",
          "name": "stdout",
          "text": [
            "Enter any number to check whether it is prime or not: 6\n",
            "6 is not a prime number\n"
          ]
        }
      ]
    },
    {
      "cell_type": "code",
      "source": [
        "# Fibbonacci Series program\n",
        "nthTerms = int(input(\"Enter The Nth Terms You Want In Fibbonacci Series: \"))\n",
        "\n",
        "num1 = 0\n",
        "num2 = 1\n",
        "count = 0\n",
        "\n",
        "if nthTerms <= 0:\n",
        "   print(\"Please Enter ANy Positive Number To Generate Fibonacci Series: \")\n",
        "else:\n",
        "   print(\"Fibonacci sequence:\")\n",
        "   while count < nthTerms:\n",
        "       print(num1)\n",
        "       nth = num1 + num2\n",
        "       num1 = num2\n",
        "       num2 = nth\n",
        "       count += 1"
      ],
      "metadata": {
        "colab": {
          "base_uri": "https://localhost:8080/"
        },
        "id": "iHCA1xvzDMLe",
        "outputId": "e35a9fed-1e34-4471-bec9-2d3062781f14"
      },
      "execution_count": null,
      "outputs": [
        {
          "output_type": "stream",
          "name": "stdout",
          "text": [
            "Enter The Nth Terms You Want In Fibbonacci Series: 6\n",
            "Fibonacci sequence:\n",
            "0\n",
            "1\n",
            "1\n",
            "2\n",
            "3\n",
            "5\n"
          ]
        }
      ]
    },
    {
      "cell_type": "code",
      "source": [
        "# Number is Palindrome Or Not Program\n",
        "num = int(input(\"Enter Any Number To Check It Is Palindrome Or Not: \"))\n",
        "dh = num\n",
        "reverse = 0\n",
        "while(num > 0):\n",
        "  d = num % 10\n",
        "  reverse = reverse*10 + d\n",
        "  num = num // 10\n",
        "if( dh == reverse):\n",
        "  print(dh,\" is Palindrome.\")\n",
        "else:\n",
        "  print(dh,\" is not Palindrome.\")"
      ],
      "metadata": {
        "colab": {
          "base_uri": "https://localhost:8080/"
        },
        "id": "kWR_4PvqJ4Wg",
        "outputId": "791e79cd-0b1e-47a3-f16b-25029c45e84c"
      },
      "execution_count": null,
      "outputs": [
        {
          "output_type": "stream",
          "name": "stdout",
          "text": [
            "Enter Any Number To Check It Is Palindrome Or Not: 10\n",
            "10  is not Palindrome.\n"
          ]
        }
      ]
    },
    {
      "cell_type": "code",
      "source": [
        "# Greatest Among 3 integers program\n",
        "lst = []\n",
        "for dh in range(3):\n",
        "  num = int(input(\"Enter Any 3 Integer: \"))\n",
        "  lst.append(num)\n",
        "print(\"List\",lst)\n",
        "lst.sort()\n",
        "print(\"Greatest Number is: \",lst[-1])\n"
      ],
      "metadata": {
        "colab": {
          "base_uri": "https://localhost:8080/"
        },
        "id": "lQnQ8U1pNErM",
        "outputId": "24ac7333-30d2-45eb-a8cb-5eaf95b39840"
      },
      "execution_count": null,
      "outputs": [
        {
          "output_type": "stream",
          "name": "stdout",
          "text": [
            "Enter Any 3 Integer: 5\n",
            "Enter Any 3 Integer: 21\n",
            "Enter Any 3 Integer: 17\n",
            "List [5, 21, 17]\n",
            "Greatest Number is:  21\n"
          ]
        }
      ]
    },
    {
      "cell_type": "code",
      "source": [
        "#Q7) Write a program in Python to check if a number is binary?\n",
        "dh = int(input(\"Enter a number: \"))\n",
        "f = 0\n",
        "tem = dh\n",
        "while dh != 0:\n",
        "  n = int(dh%10)\n",
        "  if n==0 or n==1:\n",
        "    dh = dh/10\n",
        "    continue\n",
        "  else:\n",
        "    f = f + 1\n",
        "    break\n",
        "if f==0:\n",
        "  print(tem,\" is a binary number\")\n",
        "else:\n",
        "  print(tem,\" is not a binary number\")"
      ],
      "metadata": {
        "colab": {
          "base_uri": "https://localhost:8080/"
        },
        "id": "4ixmQgv3ufn8",
        "outputId": "1ed83fef-548c-4b5a-8210-340f0fe2cbbf"
      },
      "execution_count": null,
      "outputs": [
        {
          "output_type": "stream",
          "name": "stdout",
          "text": [
            "Enter a number: 1001\n",
            "1001  is a binary number\n"
          ]
        }
      ]
    },
    {
      "cell_type": "code",
      "source": [
        "# Q8) Write a program in Python to find sum of digits.\n",
        "dh = int(input(\"Enter how Many Numbers You Want to Insert in a list: \"))\n",
        "lst = list(range(1,dh+1,1))\n",
        "sum = 0\n",
        "for d in lst:\n",
        "  user = int(input(\"Enter a list of numbers: \"))\n",
        "\n",
        "for element in lst:\n",
        "  sum += element\n",
        "print(\"Sum of all elements: \",sum)"
      ],
      "metadata": {
        "colab": {
          "base_uri": "https://localhost:8080/"
        },
        "id": "KKfWQ8kmUzk8",
        "outputId": "f32f7da4-0210-4a80-9773-c6d199359370"
      },
      "execution_count": null,
      "outputs": [
        {
          "output_type": "stream",
          "name": "stdout",
          "text": [
            "Enter how Many Numbers You Want to Insert in a list: 5\n",
            "Enter a list of numbers: 1\n",
            "Enter a list of numbers: 2\n",
            "Enter a list of numbers: 3\n",
            "Enter a list of numbers: 4\n",
            "Enter a list of numbers: 5\n",
            "Sum of all elements:  15\n"
          ]
        }
      ]
    },
    {
      "cell_type": "code",
      "source": [
        "'''Q9) Write a program in Python to swap two numbers without\n",
        "using third variable?'''\n",
        "dh1 = int(input(\"Enter number 1: \"))\n",
        "dh2 = int(input(\"Enter number 2: \"))\n",
        "print(\"After swapping\\n\")\n",
        "dh1 = dh1 + dh2\n",
        "dh2 = dh1 - dh2\n",
        "dh1 = dh1 - dh2\n",
        "print(\"First number is: \",dh1)\n",
        "print(\"Second number is: \",dh2)"
      ],
      "metadata": {
        "id": "gjT2nL5TW6Cw",
        "colab": {
          "base_uri": "https://localhost:8080/"
        },
        "outputId": "4be15342-6a96-4b71-b9bf-b12d604a40b9"
      },
      "execution_count": null,
      "outputs": [
        {
          "output_type": "stream",
          "name": "stdout",
          "text": [
            "Enter number 1: 24\n",
            "Enter number 2: 6\n",
            "After swapping\n",
            "\n",
            "First number is:  6\n",
            "Second number is:  24\n"
          ]
        }
      ]
    },
    {
      "cell_type": "code",
      "source": [
        "'''Q10) Write a program in Python to swap two numbers using\n",
        "third variable?'''\n",
        "dh1 = int(input(\"Enter number 1: \"))\n",
        "dh2 = int(input(\"Enter number 2: \"))\n",
        "print(\"After swapping\\n\")\n",
        "tem = dh1\n",
        "dh1 = dh2\n",
        "dh2 = tem\n",
        "print(\"First number is: \",dh1)\n",
        "print(\"Second number is: \",dh2)"
      ],
      "metadata": {
        "colab": {
          "base_uri": "https://localhost:8080/"
        },
        "id": "Dfn8OKHtzFxY",
        "outputId": "5798e260-5df0-43d1-faaa-97dab0bd404e"
      },
      "execution_count": null,
      "outputs": [
        {
          "output_type": "stream",
          "name": "stdout",
          "text": [
            "Enter number 1: 24\n",
            "Enter number 2: 6\n",
            "After swapping\n",
            "\n",
            "First number is:  6\n",
            "Second number is:  24\n"
          ]
        }
      ]
    },
    {
      "cell_type": "code",
      "source": [
        "'''Q11) Python Program to find the Average of numbers.'''\n",
        "dh = int(input(\"Enter how many numbers you want? \"))\n",
        "sum = 0\n",
        "for i in range(dh):\n",
        "  n = int(input(\"Enter number: \"))\n",
        "  sum += n\n",
        "average = sum/n\n",
        "print(\"Average of numbers is: \",average)"
      ],
      "metadata": {
        "colab": {
          "base_uri": "https://localhost:8080/"
        },
        "id": "8tRuBEEP1anD",
        "outputId": "585326ec-470c-43a9-9517-e02f250a4715"
      },
      "execution_count": null,
      "outputs": [
        {
          "output_type": "stream",
          "name": "stdout",
          "text": [
            "Enter how many numbers you want? 3\n",
            "Enter number: 1\n",
            "Enter number: 2\n",
            "Enter number: 3\n",
            "Average of numbers is:  2.0\n"
          ]
        }
      ]
    },
    {
      "cell_type": "code",
      "source": [
        "'''Q12) Python Program to calculate factorial using iterative\n",
        "method.'''\n",
        "dh = int(input(\"Enter a number for factorial: \"))\n",
        "a = 1\n",
        "if dh == 1 or dh==0:\n",
        "  print(\"Factorial is: \",a)\n",
        "else:\n",
        "  for d in range(1,dh+1):\n",
        "    a = a *d\n",
        "  print(\"Factorial is: \",a)\n"
      ],
      "metadata": {
        "colab": {
          "base_uri": "https://localhost:8080/"
        },
        "id": "h-soK0uQ3EFX",
        "outputId": "8120916f-e714-450b-d554-ce998a2bf319"
      },
      "execution_count": null,
      "outputs": [
        {
          "output_type": "stream",
          "name": "stdout",
          "text": [
            "Enter a number for factorial: 3\n",
            "Factorial is:  6\n"
          ]
        }
      ]
    },
    {
      "cell_type": "code",
      "source": [
        "'''Q13) Python Program to calculate factorial.'''\n",
        "dh = int(input(\"Enter a number for factorial: \"))\n",
        "a = 1\n",
        "if dh == 1 or dh==0:\n",
        "  print(\"Factorial is: \",a)\n",
        "else:\n",
        "  for d in range(1,dh+1):\n",
        "    a = a *d\n",
        "  print(\"Factorial is: \",a)\n"
      ],
      "metadata": {
        "colab": {
          "base_uri": "https://localhost:8080/"
        },
        "id": "Gwwt2pwj6g7b",
        "outputId": "0fce92be-b1bd-4ef4-ca43-156a888ccbcd"
      },
      "execution_count": null,
      "outputs": [
        {
          "output_type": "stream",
          "name": "stdout",
          "text": [
            "Enter a number for factorial: 5\n",
            "Factorial is:  120\n"
          ]
        }
      ]
    },
    {
      "cell_type": "code",
      "source": [
        "'''Q14) Python Program to check a given number is even or odd.'''\n",
        "dh = int(input(\"Enter a number: \"))\n",
        "if dh % 2 == 0:\n",
        "  print(\"Number is even\")\n",
        "else:\n",
        "  print(\"Number is odd\")"
      ],
      "metadata": {
        "colab": {
          "base_uri": "https://localhost:8080/"
        },
        "id": "ksCIOrrB7D97",
        "outputId": "472e3d84-c392-4ba3-b99c-a9dfb8ac6cc4"
      },
      "execution_count": null,
      "outputs": [
        {
          "output_type": "stream",
          "name": "stdout",
          "text": [
            "Enter a number: 333\n",
            "Number is odd\n"
          ]
        }
      ]
    },
    {
      "cell_type": "code",
      "source": [
        "'''Q15) Python program to print first n Prime Number.'''\n",
        "dh = int(input(\"Enter how many prime numbers you want: \"))\n",
        "print(\"Prime numbers:\",end=' ')\n",
        "for n in range(1,dh+1):\n",
        "    for i in range(2,n):\n",
        "        if(n%i==0):\n",
        "            break\n",
        "    else:\n",
        "        print(n,end=' ')    "
      ],
      "metadata": {
        "colab": {
          "base_uri": "https://localhost:8080/"
        },
        "id": "yClXowCw7YsR",
        "outputId": "a18dbae1-b14c-4fe5-ecdf-724db7290804"
      },
      "execution_count": null,
      "outputs": [
        {
          "output_type": "stream",
          "name": "stdout",
          "text": [
            "Enter how many prime numbers you want: 5\n",
            "Prime numbers: 1 2 3 5 "
          ]
        }
      ]
    },
    {
      "cell_type": "code",
      "source": [
        "'''Q16) Python Program to print Prime Number in a given range.'''\n",
        "dh1 = int(input(\"Enter lower range: \"))\n",
        "dh2 = int(input(\"Enter upper range: \"))\n",
        "print(\"Prime numbers:\",end=' ')\n",
        "for n in range(dh1,dh2+1):\n",
        "    for i in range(2,n):\n",
        "        if(n%i==0):\n",
        "            break\n",
        "    else:\n",
        "        print(n,end=' ')  "
      ],
      "metadata": {
        "colab": {
          "base_uri": "https://localhost:8080/"
        },
        "id": "89VznO0p88V-",
        "outputId": "c76c1725-e399-414d-d94a-3d04d177ddba"
      },
      "execution_count": null,
      "outputs": [
        {
          "output_type": "stream",
          "name": "stdout",
          "text": [
            "Enter lower range: 3\n",
            "Enter upper range: 9\n",
            "Prime numbers: 3 5 7 "
          ]
        }
      ]
    },
    {
      "cell_type": "code",
      "source": [
        "'''Q17) Python Program to find Smallest number among three.'''\n",
        "lst = []\n",
        "for i in range(3):\n",
        "  dh = int(input(\"Enter number: \"))\n",
        "  lst.append(dh)\n",
        "lst.sort()\n",
        "print(\"The smallest number is: \",lst[0])"
      ],
      "metadata": {
        "colab": {
          "base_uri": "https://localhost:8080/"
        },
        "id": "glG9h95s92aA",
        "outputId": "ca2d1c99-967c-4d91-b586-4db023607fe7"
      },
      "execution_count": null,
      "outputs": [
        {
          "output_type": "stream",
          "name": "stdout",
          "text": [
            "Enter number: 4\n",
            "Enter number: 5\n",
            "Enter number: 1\n",
            "The smallest number is:  1\n"
          ]
        }
      ]
    },
    {
      "cell_type": "code",
      "source": [
        "'''Q18) Python program to calculate the power using the POW\n",
        "method.'''\n",
        "import math\n",
        "dh = int(input(\"Enter a number: \"))\n",
        "power = math.pow(dh,3)\n",
        "print(\"Power 3 of \",dh,\" is: \",power)"
      ],
      "metadata": {
        "colab": {
          "base_uri": "https://localhost:8080/"
        },
        "id": "6TawnzZw_jWq",
        "outputId": "7b592f87-a493-4ad3-f27a-aba75f937ea7"
      },
      "execution_count": null,
      "outputs": [
        {
          "output_type": "stream",
          "name": "stdout",
          "text": [
            "Enter a number: 3\n",
            "Power 3 of  3  is:  27.0\n"
          ]
        }
      ]
    },
    {
      "cell_type": "code",
      "source": [
        "'''Q19) Python Program to calculate the square of a given number.'''\n",
        "import math\n",
        "dh = int(input(\"Enter a number: \"))\n",
        "power = math.pow(dh,2)\n",
        "print(\"Square of \",dh,\" is: \",power)"
      ],
      "metadata": {
        "colab": {
          "base_uri": "https://localhost:8080/"
        },
        "id": "6VuStd0mAIhJ",
        "outputId": "641a0c9c-fe16-40ee-c9e2-c3e97b6e7fdb"
      },
      "execution_count": null,
      "outputs": [
        {
          "output_type": "stream",
          "name": "stdout",
          "text": [
            "Enter a number: 12\n",
            "Square of  12  is:  144.0\n"
          ]
        }
      ]
    },
    {
      "cell_type": "code",
      "source": [
        "'''Q20) Python Program to calculate the cube of a given number'''\n",
        "dh = int(input(\"Enter a number: \"))\n",
        "power = dh**3\n",
        "print(\"Cube of \",dh,\" is: \",power)"
      ],
      "metadata": {
        "colab": {
          "base_uri": "https://localhost:8080/"
        },
        "id": "aeRrXLglATcv",
        "outputId": "3758cf2c-720f-464c-f77d-365663570999"
      },
      "execution_count": null,
      "outputs": [
        {
          "output_type": "stream",
          "name": "stdout",
          "text": [
            "Enter a number: 4\n",
            "Cube of  4  is:  64\n"
          ]
        }
      ]
    },
    {
      "cell_type": "code",
      "source": [
        "'''Q21) Python Program to calculate the square root of a given\n",
        "number.'''\n",
        "import math\n",
        "dh = int(input(\"Enter a number: \"))\n",
        "power = math.sqrt(dh)\n",
        "print(\"Square root of \",dh,\" is: \",power)"
      ],
      "metadata": {
        "colab": {
          "base_uri": "https://localhost:8080/"
        },
        "id": "UuTpxnA-AsWE",
        "outputId": "11ec90d0-2ac4-4902-fb25-b583b031d1e2"
      },
      "execution_count": null,
      "outputs": [
        {
          "output_type": "stream",
          "name": "stdout",
          "text": [
            "Enter a number: 16\n",
            "Square root of  16  is:  4.0\n"
          ]
        }
      ]
    },
    {
      "cell_type": "code",
      "source": [
        "'''Q22) Python Program to Convert Decimal Number into Binary.'''\n",
        "\n",
        "print(\"\\t <<< Decimal To Binary Converter >>>\")\n",
        "decimalNum = int(input(\"Enter Any Decimal Number You Want To Convert In Binary: \"))\n",
        "\n",
        "binaryNum = 0\n",
        "dh = 0\n",
        "temp = decimalNum \n",
        "\n",
        "\n",
        "while(temp > 0):\n",
        "    binaryNum = ((temp%2)*(10**dh)) + binaryNum\n",
        "    temp = int(temp/2)\n",
        "    dh += 1\n",
        "\n",
        "print(f\"The Binary Number of {decimalNum} is: {binaryNum}\")\n"
      ],
      "metadata": {
        "id": "SvnuDCICBB7T",
        "colab": {
          "base_uri": "https://localhost:8080/"
        },
        "outputId": "778df819-3870-4360-cd6a-711c25e3f4c1"
      },
      "execution_count": null,
      "outputs": [
        {
          "output_type": "stream",
          "name": "stdout",
          "text": [
            "\t <<< Decimal To Binary Converter >>>\n",
            "Enter Any Decimal Number You Want To Convert In Binary: 246\n",
            "The Binary Number of 246 is: 11110110\n"
          ]
        }
      ]
    },
    {
      "cell_type": "code",
      "source": [
        "'''Q23) Python Program to convert Decimal number to Octal\n",
        "number.'''\n",
        "print(\"\\t <<< Decimal To Octal Converter >>>\")\n",
        "decimalNum = int(input(\"Enter Any Decimal Number You Want To Convert In Octal: \"))\n",
        "\n",
        "octalNum = 0\n",
        "dh = 0\n",
        "temp = decimalNum \n",
        "\n",
        "while(temp > 0):\n",
        "    octalNum = ((temp%8)*(10**dh)) + octalNum\n",
        "    temp = int(temp/8)\n",
        "    dh += 1\n",
        "\n",
        "print(f\"The Octal Number of {decimalNum} is: {octalNum}\")"
      ],
      "metadata": {
        "colab": {
          "base_uri": "https://localhost:8080/"
        },
        "id": "sUDY9e6lVz-b",
        "outputId": "e40fad13-9ca8-474e-b604-82b50a388470"
      },
      "execution_count": null,
      "outputs": [
        {
          "output_type": "stream",
          "name": "stdout",
          "text": [
            "\t <<< Decimal To Octal Converter >>>\n",
            "Enter Any Decimal Number You Want To Convert In Octal: 246\n",
            "The Octal Number of 246 is: 366\n"
          ]
        }
      ]
    },
    {
      "cell_type": "code",
      "source": [
        "'''Q24) Python Program to check the given year is a leap year or\n",
        "not.'''\n",
        "year = int(input(\"Enter Year To Check Whether it's A leap Year or Not: \"))\n",
        "if (year % 400 == 0) and (year % 100 == 0):\n",
        "    print(f\"{year} is a Leap Year\")\n",
        "elif (year % 4 ==0) and (year % 100 != 0):\n",
        "    print(f\"{year} is a Leap Year\")\n",
        "else:\n",
        "    print(f\"{year} is not a Leap Year\")"
      ],
      "metadata": {
        "colab": {
          "base_uri": "https://localhost:8080/"
        },
        "id": "HKGd_I_eZCd9",
        "outputId": "bd02a282-4925-4e90-b273-7669061d21cf"
      },
      "execution_count": null,
      "outputs": [
        {
          "output_type": "stream",
          "name": "stdout",
          "text": [
            "Enter Year To Check Whether it's A leap Year or Not: 2004\n",
            "2004 is a Leap Year\n"
          ]
        }
      ]
    },
    {
      "cell_type": "code",
      "source": [
        "'''Q25) Python Program to convert Celsius to Fahrenheit.'''\n",
        "\n",
        "celsius = int(input(\"Enter Temperature To Convert Celsius To Fahrenheit: \"))\n",
        "fahrenhiet = (celsius * 9/5) + 32\n",
        "print(f\"Celsius Temperature {celsius} in Fahrenhiet is {fahrenhiet}\")"
      ],
      "metadata": {
        "colab": {
          "base_uri": "https://localhost:8080/"
        },
        "id": "Gu4ICN_dZ36Q",
        "outputId": "f88c4757-0e3f-40bc-dede-f4d80d710d7f"
      },
      "execution_count": null,
      "outputs": [
        {
          "output_type": "stream",
          "name": "stdout",
          "text": [
            "Enter Temperature To Convert Celsius To Fahrenheit: 27\n",
            "Celsius Temperature 27 in Fahrenhiet is 80.6\n"
          ]
        }
      ]
    },
    {
      "cell_type": "code",
      "source": [
        "'''Q26) Python Program to convert Fahrenheit to Celsius.'''\n",
        "\n",
        "fahrenhiet = int(input(\"Enter Temperature To Convert Fahrenhiet To Celsius: \"))\n",
        "celsius = (fahrenhiet - 32) * 5/9\n",
        "print(f\"Fahrenhiet Temperature {fahrenhiet} in Celsius is {celsius}\")"
      ],
      "metadata": {
        "colab": {
          "base_uri": "https://localhost:8080/"
        },
        "id": "Nda4aHDya8Pd",
        "outputId": "63dc4875-e52a-43cd-8974-f71af6a1a4e5"
      },
      "execution_count": null,
      "outputs": [
        {
          "output_type": "stream",
          "name": "stdout",
          "text": [
            "Enter Temperature To Convert Fahrenhiet To Celsius: 41\n",
            "Fahrenhiet Temperature 41 in Celsius is 5.0\n"
          ]
        }
      ]
    }
  ]
}